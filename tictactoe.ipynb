# Garv's - TIC TAC TOE (Reliving Old times)
# Run it on a jupyter notebook
# INITIAL THOUGHTS:
# We need
# player marker - player's input
# board
# marker position
# if anybody wins
# if the location is available
# if board is full
# who'll go first
# if it's a tie
# if anybody wins
# play again?
# Put it all in 1 Big giant Code Block.

from IPython.display import clear_output
import random

# Global Variables
theBoard = [" "] * 10
availableBoard = [str(num) for num in range(0, 10)]
players = [0, 'X', 'O']

# Display Board
def display_board(available, board):
    clear_output()
    print('   Welcome to Tic Tac Toe!')
    print('\n')
    print("  Available        Tic Tac Toe")
    print("    Moves\n")
    print("    |  " + " |  " + "      " + "    |  " + " |  ")
    print("  " + available[7] + " | " + available[8] + " | " + available[9] + "     "+"   " + board[7] + " | " + board[8] + " | " + board[9] + " " )
    print("-------------" + "    " + "-------------")
    print("  " + available[4] + " | " + available[5] + " | " + available[6] + "     "+"   " + board[4] + " | " + board[5] + " | " + board[6] + " " )
    print("-------------" + "    " + "-------------")
    print("  " + available[1] + " | " + available[2] + " | " + available[3] + "     "+"   " + board[1] + " | " + board[2] + " | " + board[3] + " " )
    print("    |  " + " |  " + "      " + "    |  " + " |  ")

# Board has 10 places, only last 9 are used, like a keypad.

# display_board(availableBoard,theBoard)
# To TEST Board: display_board(availableBoard, availableBoard)

# place the marker on the board.
def place_marker(available, board, marker, position):
    board[position] = marker
    available[position] = ' ' # overwrite the marker with ' '


def player_input():
    marker = '' # marker string
    
    # Keep on asking if not X or O.
    while not (marker == 'X' or marker == 'O'):
        marker = input("Enter your marker, 'X' or 'O' : ")
    
    player1_marker = marker # that marker is player 1's marker
    
    if player1_marker == 'X':
        player2_marker = 'O' # second player gets 'O'
        return ('X', 'O')
    else:
        player2_marker = 'X'
        return ('O', 'X')    # return a tuple of markers

# player1_marker, player2_marker = player_input() # each player assigned a marker from the tuple.

# place_marker(availableBoard, theBoard,'$',8) # put $ at position 8 and also removed position 8 from available moves.
# display_board(availableBoard, theBoard)

def win_check(board, mark):
    # Check all Rows and see if they have the same marker
    # Check all Cols and see if they have the same marker
    # Check diagnols and see if they have the same marker
    return ((board[1] == board[2] == board[3] == mark) or (board[1] == board[4] == board[7] == mark) or
            (board[4] == board[5] == board[6] == mark) or (board[2] == board[5] == board[8] == mark) or
            (board[7] == board[8] == board[9] == mark) or (board[3] == board[6] == board[9] == mark) or
            (board[1] == board[5] == board[9] == mark) or (board[3] == board[5] == board[7] == mark))


def choose_first():
    flip = random.randint(0,1) # Randomly decide who starts.
    if flip == 0:
        return 'Player 1'
    else:
        return 'Player 2'


def space_check(board, position):
    return board[position] == " " # True if space available.


def full_board_check(board):
    for i in range(1, 10):
        if space_check(board, i): # check every space.
            return False # Board not full.
    return True # Board is full.


def player_choice(board):
    position = 0
    while position not in [1, 2, 3, 4, 5, 6, 7, 8, 9] or not space_check(board, position):
        try:
            position = int(input("Choose a position (1 - 9) "))
        
        except:
            print("I'm sorry, please try again.")
return position


def replay():
    choice = input("Play Again? Enter Yes or No ")
    return choice == "Yes" or choice == 'yes'
    board_reset()

'''
    def board_reset():
    # reset the board and available moves list
    theBoard = [' '] * 10
    availableBoard = [str(num) for num in range(0,10)]
    '''


# ACTUAL GAME BEGINS:
while True:
    clear_output()
    print('Welcome to Tic Tac Toe!')
    
    # Set the game up here (Board, who's first, choose marker)
    the_board = [" "] * 10
    player1_marker, player2_marker = player_input()
    
    turn = choose_first()
    print(turn + " will go first.")
    
    play_game = input('Ready to Play? y or n? ')
    if play_game == 'y' or play_game == 'yes':
        #board_reset()
        #display_board(availableBoard, theBoard)
        game_on = True
    else:
        game_on = False
    #board_reset()
    #display_board(availableBoard, theBoard)

    # while game_on:
    # Player 1 Turn
    while game_on:
        if turn == 'Player 1':
            # Show the board
            display_board(availableBoard, the_board)
            # Choose a position
            position = player_choice(the_board)
            # place the marker on the position
            place_marker(availableBoard, the_board, player1_marker, position)
            # Check if won
            if win_check(the_board, player1_marker):
                display_board(availableBoard, the_board)
                print("Congratulations!! Player 1 has WON!!")
                game_on = False # OR break
            # or if there's a tie
            else:
                if full_board_check(the_board):
                    display_board(availableBoard, the_board)
                    print('TIE GAME!!')
                    game_on = False # OR break
                else:
                    turn = 'Player 2'
# No tie or won? Then next player's turn.

# Player2's turn.
else:
    # Show the board
    display_board(availableBoard, the_board)
    # Choose a position
    position = player_choice(the_board)
        # place the marker on the position
        place_marker(availableBoard, the_board, player2_marker, position)
        # Check if won
        if win_check(the_board, player2_marker):
            display_board(availableBoard, the_board)
            print("Congratulations!! Player 2 has WON!!")
            game_on = False # OR break
            # or if there's a tie
            else:
                if full_board_check(the_board):
                    display_board(availableBoard, the_board)
                    print('TIE GAME!!')
                    game_on = False # OR break
                else:
                    turn = 'Player 1'

# reset the board and available moves list
theBoard = [' '] * 10
availableBoard = [str(num) for num in range(0,10)]

if not replay():
    break


